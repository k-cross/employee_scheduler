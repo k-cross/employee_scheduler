{
 "cells": [
  {
   "cell_type": "code",
   "execution_count": 1,
   "metadata": {
    "collapsed": false
   },
   "outputs": [
    {
     "name": "stdout",
     "output_type": "stream",
     "text": [
      "   Unnamed: 0  Monday  Tuesday  Wednesday  Thursday  Friday  Saturday  Sunday  \\\n",
      "0         Ryo       0        1          1         1       1         1       0   \n",
      "1        Joji       1        1          1         1       1         1       1   \n",
      "2       Erinn       1        1          1         1       1         1       1   \n",
      "3        Masa       1        1          1         1       1         1       0   \n",
      "4        Mari       1        1          1         1       1         1       1   \n",
      "5         Dan       1        1          0         1       0         1       1   \n",
      "6         Jay       1        1          1         1       1         0       0   \n",
      "7     Machiko       0        1          0         0       1         0       0   \n",
      "8      Masami       1        1          1         1       1         1       1   \n",
      "9        Nana       1        1          1         1       1         1       1   \n",
      "10      Shiho       1        1          1         1       1         1       1   \n",
      "11       Saya       1        1          0         1       1         1       1   \n",
      "12  Stephanie       0        0          0         0       1         1       0   \n",
      "13     Tamiko       1        1          0         0       0         0       1   \n",
      "14     Tomoyo       1        1          1         1       1         1       1   \n",
      "15      Naoko       1        1          1         1       1         1       1   \n",
      "\n",
      "    Server  Host  Runner  Busser  Bar-back  Bar  Pref. Emp.  Pos. Pref.  Days  \n",
      "0        0     0       0       0         0    4           1           6     4  \n",
      "1        0     0       0       0         0    3           0           6     3  \n",
      "2        0     1       0       0         2    0           0           5     2  \n",
      "3        2     5       1       0         0    1           1           2     5  \n",
      "4        3     2       1       0         0    0           0           1     4  \n",
      "5        3     0       0       0         0    0           1           1     2  \n",
      "6        2     0       0       0         0    0           0           1     2  \n",
      "7        2     0       1       0         0    0           1           1     2  \n",
      "8        3     0       0       0         0    0           1           1     3  \n",
      "9        3     0       1       0         0    0           0           1     3  \n",
      "10       4     0       4       4         0    0           0           4     4  \n",
      "11       0     0       2       0         0    0           1           3     2  \n",
      "12       0     0       2       0         0    0           1           3     2  \n",
      "13       2     0       2       0         0    0           0           1     2  \n",
      "14       0     0       0       3         0    0           0           3     3  \n",
      "15       1     1       1       1         1    1           1           1     3  \n"
     ]
    }
   ],
   "source": [
    "import pandas as pd\n",
    "\n",
    "test = pd.read_csv(\"../data/data_rep.csv\")\n",
    "\n",
    "print(test)"
   ]
  },
  {
   "cell_type": "code",
   "execution_count": null,
   "metadata": {
    "collapsed": true
   },
   "outputs": [],
   "source": []
  }
 ],
 "metadata": {
  "kernelspec": {
   "display_name": "Python 3",
   "language": "python",
   "name": "python3"
  },
  "language_info": {
   "codemirror_mode": {
    "name": "ipython",
    "version": 3
   },
   "file_extension": ".py",
   "mimetype": "text/x-python",
   "name": "python",
   "nbconvert_exporter": "python",
   "pygments_lexer": "ipython3",
   "version": "3.4.3"
  }
 },
 "nbformat": 4,
 "nbformat_minor": 0
}
